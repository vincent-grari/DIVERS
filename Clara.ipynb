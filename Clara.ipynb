{
  "nbformat": 4,
  "nbformat_minor": 0,
  "metadata": {
    "colab": {
      "name": "Clara",
      "provenance": [],
      "collapsed_sections": [],
      "include_colab_link": true
    },
    "kernelspec": {
      "display_name": "Python 3",
      "name": "python3"
    },
    "accelerator": "GPU"
  },
  "cells": [
    {
      "cell_type": "markdown",
      "metadata": {
        "id": "view-in-github",
        "colab_type": "text"
      },
      "source": [
        "<a href=\"https://colab.research.google.com/github/vincent-grari/DIVERS/blob/main/Clara.ipynb\" target=\"_parent\"><img src=\"https://colab.research.google.com/assets/colab-badge.svg\" alt=\"Open In Colab\"/></a>"
      ]
    },
    {
      "cell_type": "code",
      "metadata": {
        "colab": {
          "base_uri": "https://localhost:8080/"
        },
        "id": "dKqhmXWC3YCk",
        "outputId": "d97036df-d2e4-435f-ebff-d03b11d87e32"
      },
      "source": [
        "from matplotlib import pyplot as plt\n",
        "import pandas as pd\n",
        "import torch\n",
        "import torch.nn as nn\n",
        "import torch.nn.functional as F\n",
        "import sklearn as sk\n",
        "from sklearn.model_selection import train_test_split\n",
        "from sklearn.preprocessing import StandardScaler, MaxAbsScaler\n",
        "from sklearn.metrics import accuracy_score, roc_auc_score\n",
        "from sklearn.utils.class_weight import compute_class_weight\n",
        "from sklearn.tree import DecisionTreeRegressor \n",
        "from sklearn.ensemble import GradientBoostingClassifier\n",
        "from sklearn.ensemble import GradientBoostingRegressor\n",
        "import numpy as np\n",
        "from sklearn.metrics import accuracy_score\n",
        "import torch\n",
        "import torch.nn as nn\n",
        "import torch.nn.functional as F\n",
        "from torch.autograd import Variable\n",
        "import sys\n",
        "print(sys.argv)\n",
        "import os\n",
        "import urllib\n",
        "import os.path\n",
        "import sklearn.preprocessing as preprocessing\n",
        "from collections import namedtuple\n",
        "import pandas as pd"
      ],
      "execution_count": null,
      "outputs": [
        {
          "output_type": "stream",
          "text": [
            "['/usr/local/lib/python3.7/dist-packages/ipykernel_launcher.py', '-f', '/root/.local/share/jupyter/runtime/kernel-f8b6ec8e-2d31-4f44-9fc4-aa64861aa36f.json']\n"
          ],
          "name": "stdout"
        }
      ]
    },
    {
      "cell_type": "code",
      "metadata": {
        "colab": {
          "base_uri": "https://localhost:8080/"
        },
        "id": "e1ShaOon3mKi",
        "outputId": "4bd4755e-a9ac-4fb6-df90-8c2b1e5218bf"
      },
      "source": [
        "pip install --upgrade scikit-learn"
      ],
      "execution_count": null,
      "outputs": [
        {
          "output_type": "stream",
          "text": [
            "Requirement already up-to-date: scikit-learn in /usr/local/lib/python3.7/dist-packages (0.24.2)\n",
            "Requirement already satisfied, skipping upgrade: scipy>=0.19.1 in /usr/local/lib/python3.7/dist-packages (from scikit-learn) (1.4.1)\n",
            "Requirement already satisfied, skipping upgrade: threadpoolctl>=2.0.0 in /usr/local/lib/python3.7/dist-packages (from scikit-learn) (2.1.0)\n",
            "Requirement already satisfied, skipping upgrade: numpy>=1.13.3 in /usr/local/lib/python3.7/dist-packages (from scikit-learn) (1.19.5)\n",
            "Requirement already satisfied, skipping upgrade: joblib>=0.11 in /usr/local/lib/python3.7/dist-packages (from scikit-learn) (1.0.1)\n"
          ],
          "name": "stdout"
        }
      ]
    },
    {
      "cell_type": "code",
      "metadata": {
        "colab": {
          "base_uri": "https://localhost:8080/"
        },
        "id": "BTZ9sqfK25Xu",
        "outputId": "fedf8a9f-36ce-4833-a237-9dfaf1453f5c"
      },
      "source": [
        "!wget \"http://grarivincent.com/research/baseINSEE.csv\""
      ],
      "execution_count": null,
      "outputs": [
        {
          "output_type": "stream",
          "text": [
            "--2021-06-28 14:16:36--  http://grarivincent.com/research/baseINSEE.csv\n",
            "Resolving grarivincent.com (grarivincent.com)... 217.160.0.183, 2001:8d8:100f:f000::2ce\n",
            "Connecting to grarivincent.com (grarivincent.com)|217.160.0.183|:80... connected.\n",
            "HTTP request sent, awaiting response... 200 OK\n",
            "Length: 5107089 (4.9M) [text/csv]\n",
            "Saving to: ‘baseINSEE.csv.2’\n",
            "\n",
            "baseINSEE.csv.2     100%[===================>]   4.87M  5.49MB/s    in 0.9s    \n",
            "\n",
            "2021-06-28 14:16:38 (5.49 MB/s) - ‘baseINSEE.csv.2’ saved [5107089/5107089]\n",
            "\n"
          ],
          "name": "stdout"
        }
      ]
    },
    {
      "cell_type": "code",
      "metadata": {
        "id": "VHwbXPei7Ubh"
      },
      "source": [
        "baseINSEE = (pd.read_csv(\"baseINSEE.csv\", #names=column_names,\n",
        "                    sep=r'\\s*;\\s*', engine='python', na_values=['NA']))"
      ],
      "execution_count": null,
      "outputs": []
    },
    {
      "cell_type": "code",
      "metadata": {
        "id": "shoz5s--ram7"
      },
      "source": [
        "baseINSEE['pol_insee_code']= baseINSEE['code_commune_INSEE']"
      ],
      "execution_count": null,
      "outputs": []
    },
    {
      "cell_type": "code",
      "metadata": {
        "colab": {
          "base_uri": "https://localhost:8080/"
        },
        "id": "801LTIAKhMoX",
        "outputId": "ad7893c2-4900-406f-f0bb-b9250c187532"
      },
      "source": [
        "import sys, os\n",
        "sys.path.append(os.path.abspath(os.path.join('../..')))\n",
        "def load_ICU_Pricing(path):\n",
        "    #column_names = [\"CalYear\",\"Gender\",\"Type\",\"Category\",\"Occupation\",\"Age\",\"Group1\",\"Bonus\",\"Poldur\",\"Value\",\"Adind\",\"SubGroup2\",\"Group2\",\"Density\",\"Y\"]\n",
        "    #input_data = (pd.read_csv(path, #names=column_names,\n",
        "    #                           sep=r',', engine='python', keep_default_na=False, na_values=['NA']))\n",
        "    \n",
        "    path = \"http://grarivincent.com/research/db4ModelFull2.csv\"\n",
        "    input_data = (pd.read_csv(path, #names=column_names,\n",
        "                                sep=r',', engine='python', na_values=['NA']))\n",
        "    input_data=input_data.drop(columns=['Unnamed: 0'])\n",
        "    \n",
        "    base=baseINSEE\n",
        "    base = base[~base.pol_insee_code.str[:2].isin([\"2A\",\"2B\"])]\n",
        "    base[\"pol_insee_code\"] = base[\"pol_insee_code\"].astype(int)\n",
        "    base_nd =  base.drop_duplicates(subset=['pol_insee_code'])\n",
        "\n",
        "    input_data = input_data.drop_duplicates()\n",
        "    input_data = input_data[~input_data.pol_insee_code.str[:2].isin([\"2A\",\"2B\"])]\n",
        "    input_data[\"pol_insee_code\"] = input_data[\"pol_insee_code\"].astype(int)\n",
        "\n",
        "    input_data = input_data.merge(base_nd, how='inner', on=\"pol_insee_code\")\n",
        "    #input_data = input_data[input_data['claim_amount']<=5000]\n",
        "    #input_data=input_data[input_data['claim_amount']!=0]\n",
        "   \n",
        "    #\n",
        "    sensitive_attribs = ['Age']\n",
        "    print(input_data.shape)\n",
        "    G0 = (input_data.iloc[:, 37:180]) #137])\n",
        "    #Z0 = pd.concat(Z0,input_data['long'])\n",
        "    G0=G0.select_dtypes([np.number])\n",
        "    G0 = G0.fillna(G0.mean())\n",
        "    G=G0\n",
        "    #Z = (Z0\n",
        "    #    .drop(columns=['\"REG\"'\n",
        "    #                   ])\n",
        "    #    .fillna('Unknown').pipe(pd.get_dummies))\n",
        "\n",
        "    y = input_data['claim_amount']\n",
        "    E  = input_data['exposure']\n",
        "    #I = input_data[\"pol_insee_code\"]\n",
        "    I = input_data[['pol_insee_code','latitude','longitude']]\n",
        "\n",
        "    # features; note that the 'target' and sentive attribute columns are dropped\n",
        "    X0 = input_data.iloc[:, 5:32]\n",
        "    \n",
        "    X = (X0\n",
        "          .drop(columns=['pol_coverage','pol_insee_code'])\n",
        "          .fillna('Unknown').pipe(pd.get_dummies))\n",
        "    INSEE = input_data.iloc[:, 36]\n",
        "    print(f\"features X: {X.shape[0]} samples, {X.shape[1]} attributes\")\n",
        "    print(f\"targets y: {y.shape[0]} samples\")\n",
        "    print(f\"sensitives E: {E.shape[0]} samples, {E.shape[0]} attributes\")\n",
        "    return X, y, G, E, I\n",
        "\n",
        "X, y, G, E, I =load_ICU_Pricing(\"http://grarivincent.com/research/db4modelfull3.csv\")"
      ],
      "execution_count": null,
      "outputs": [
        {
          "output_type": "stream",
          "text": [
            "/usr/local/lib/python3.7/dist-packages/ipykernel_launcher.py:15: SettingWithCopyWarning: \n",
            "A value is trying to be set on a copy of a slice from a DataFrame.\n",
            "Try using .loc[row_indexer,col_indexer] = value instead\n",
            "\n",
            "See the caveats in the documentation: https://pandas.pydata.org/pandas-docs/stable/user_guide/indexing.html#returning-a-view-versus-a-copy\n",
            "  from ipykernel import kernelapp as app\n"
          ],
          "name": "stderr"
        },
        {
          "output_type": "stream",
          "text": [
            "(98417, 151)\n",
            "features X: 98417 samples, 1167 attributes\n",
            "targets y: 98417 samples\n",
            "sensitives E: 98417 samples, 98417 attributes\n"
          ],
          "name": "stdout"
        }
      ]
    },
    {
      "cell_type": "code",
      "metadata": {
        "colab": {
          "base_uri": "https://localhost:8080/"
        },
        "id": "jVrmT9HfdJI3",
        "outputId": "48f1981b-5942-4d59-80f8-26e8965c747a"
      },
      "source": [
        "(y!=0).sum()"
      ],
      "execution_count": null,
      "outputs": [
        {
          "output_type": "execute_result",
          "data": {
            "text/plain": [
              "11025"
            ]
          },
          "metadata": {
            "tags": []
          },
          "execution_count": 7
        }
      ]
    },
    {
      "cell_type": "code",
      "metadata": {
        "id": "bIsCBCdPckqA"
      },
      "source": [
        "X=X[y>0]\n",
        "G=G[y>0]\n",
        "E=E[y>0]\n",
        "I=I[y>0]\n",
        "y=y[y>0]"
      ],
      "execution_count": null,
      "outputs": []
    },
    {
      "cell_type": "code",
      "metadata": {
        "colab": {
          "base_uri": "https://localhost:8080/"
        },
        "id": "xJlWX0HjdopV",
        "outputId": "34369c80-ff7a-421f-d3ee-839ce3d1ff8d"
      },
      "source": [
        "X.shape"
      ],
      "execution_count": null,
      "outputs": [
        {
          "output_type": "execute_result",
          "data": {
            "text/plain": [
              "(11025, 1167)"
            ]
          },
          "metadata": {
            "tags": []
          },
          "execution_count": 9
        }
      ]
    },
    {
      "cell_type": "code",
      "metadata": {
        "colab": {
          "base_uri": "https://localhost:8080/"
        },
        "id": "a2qiI5I0n6Kd",
        "outputId": "8da15130-4d2a-463e-bb5f-6b524b86b8e2"
      },
      "source": [
        "(y>0).mean()"
      ],
      "execution_count": null,
      "outputs": [
        {
          "output_type": "execute_result",
          "data": {
            "text/plain": [
              "1.0"
            ]
          },
          "metadata": {
            "tags": []
          },
          "execution_count": 10
        }
      ]
    },
    {
      "cell_type": "code",
      "metadata": {
        "colab": {
          "base_uri": "https://localhost:8080/"
        },
        "id": "IBFiBynafchD",
        "outputId": "67669ee7-efa8-4e34-a36d-f851341cf3bc"
      },
      "source": [
        "y.mean()"
      ],
      "execution_count": null,
      "outputs": [
        {
          "output_type": "execute_result",
          "data": {
            "text/plain": [
              "1107.7378757369586"
            ]
          },
          "metadata": {
            "tags": []
          },
          "execution_count": 11
        }
      ]
    },
    {
      "cell_type": "code",
      "metadata": {
        "id": "-AdjIK01Q6tn"
      },
      "source": [
        "G= G.iloc[:, :-5]"
      ],
      "execution_count": null,
      "outputs": []
    },
    {
      "cell_type": "code",
      "metadata": {
        "id": "DU3bfJ9cmfjk"
      },
      "source": [
        "X_train, X_test, y_train, y_test, G_train, G_test, E_train, E_test, I_train, I_test  = train_test_split(X, y, G, E, I, test_size=0.2, random_state=7)"
      ],
      "execution_count": null,
      "outputs": []
    },
    {
      "cell_type": "code",
      "metadata": {
        "id": "GqgJEuXeydqs"
      },
      "source": [
        "scaler = StandardScaler().fit(X_train)\n",
        "scale_df = lambda df, scaler: pd.DataFrame(scaler.transform(df), columns=df.columns, index=df.index)\n",
        "X_train = X_train.pipe(scale_df, scaler) \n",
        "X_test = X_test.pipe(scale_df, scaler)"
      ],
      "execution_count": null,
      "outputs": []
    },
    {
      "cell_type": "code",
      "metadata": {
        "id": "rD04iS282HyO"
      },
      "source": [
        "scalerg = StandardScaler().fit(G_train)\n",
        "scale_df_g = lambda df, scaler: pd.DataFrame(scalerg.transform(df), columns=df.columns, index=df.index)\n",
        "G_train = G_train.pipe(scale_df_g, scalerg) \n",
        "G_test = G_test.pipe(scale_df_g, scalerg)"
      ],
      "execution_count": null,
      "outputs": []
    },
    {
      "cell_type": "code",
      "metadata": {
        "id": "rH5_iGf7yA8S"
      },
      "source": [
        "y_traint =np.expand_dims(y_train,axis=1)\n",
        "y_testt =np.expand_dims(y_test,axis=1)"
      ],
      "execution_count": null,
      "outputs": []
    },
    {
      "cell_type": "code",
      "metadata": {
        "id": "LDHF7Ytga23C"
      },
      "source": [
        "from sklearn import linear_model"
      ],
      "execution_count": null,
      "outputs": []
    },
    {
      "cell_type": "markdown",
      "metadata": {
        "id": "qjbpVMwZYstK"
      },
      "source": [
        "### **GLM POISSON SANS ZONIER **"
      ]
    },
    {
      "cell_type": "code",
      "metadata": {
        "colab": {
          "base_uri": "https://localhost:8080/"
        },
        "id": "FszwwGGbYstX",
        "outputId": "c830df9e-079d-49c8-931e-b19f5bf7e2bf"
      },
      "source": [
        "from sklearn import linear_model\n",
        "reg = linear_model.GammaRegressor() \n",
        "reg.fit(X_train,y_train)"
      ],
      "execution_count": null,
      "outputs": [
        {
          "output_type": "execute_result",
          "data": {
            "text/plain": [
              "GammaRegressor()"
            ]
          },
          "metadata": {
            "tags": []
          },
          "execution_count": 18
        }
      ]
    },
    {
      "cell_type": "code",
      "metadata": {
        "id": "iQzFsSpy8OyW"
      },
      "source": [
        "def EDR_GAMMA(yhat, y):\n",
        "  #loss=torch.mean(torch.exp(xbeta)-y*xbeta)\n",
        "  #loss=torch.mean(yhat-y*torch.log(yhat))\n",
        "  eps=0.000000000001\n",
        "  res=1-np.mean(-np.log(y/yhat)+(y-yhat)/yhat)/np.mean(-np.log(y/np.mean(y))+(y-np.mean(y))/np.mean(y))\n",
        "  return res\n",
        "\n",
        "def gini_coefficient(x):\n",
        "    \"\"\"Compute Gini coefficient of array of values\"\"\"\n",
        "    diffsum = 0\n",
        "    for i, xi in enumerate(x[:-1], 1):\n",
        "        diffsum += np.sum(np.abs(xi - x[i:]))\n",
        "    return diffsum / (len(x)**2 * np.mean(x))"
      ],
      "execution_count": null,
      "outputs": []
    },
    {
      "cell_type": "code",
      "metadata": {
        "id": "f_qTcnWhYstX",
        "colab": {
          "base_uri": "https://localhost:8080/"
        },
        "outputId": "180857ed-bd3d-4f66-a0f7-da479d35f891"
      },
      "source": [
        "print(\" GINI Poi without zonier via Reg : \", gini_coefficient(reg.predict(X_train)))\n",
        "print(\" GINI Poi without zonier via Reg : \", gini_coefficient(reg.predict(X_test)))\n",
        "print(\" EDR POIS Poi without zonier via Reg : \", EDR_GAMMA(reg.predict(X_train),y_train))\n",
        "print(\" EDR POIS Poi without zonier via Reg : \", EDR_GAMMA(reg.predict(X_test),y_test))\n",
        "MSE_Poi_tr =  ((reg.predict(X_train)-y_train)**2).mean()\n",
        "MSE_Poi_test =  ((reg.predict(X_test)-y_test)**2).mean()\n",
        "print(\" MSE Poi without zonier via Reg : \", MSE_Poi_tr)\n",
        "print(\" MSE Poi without zonier via Reg : \", MSE_Poi_test)"
      ],
      "execution_count": null,
      "outputs": [
        {
          "output_type": "stream",
          "text": [
            " GINI Poi without zonier via Reg :  0.10016313392464055\n",
            " GINI Poi without zonier via Reg :  0.09900343839239843\n",
            " EDR POIS Poi without zonier via Reg :  0.07082906969778546\n",
            " EDR POIS Poi without zonier via Reg :  0.009880909830848772\n",
            " MSE Poi without zonier via Reg :  3233947.3979483824\n",
            " MSE Poi without zonier via Reg :  19711010.204665985\n"
          ],
          "name": "stdout"
        }
      ]
    },
    {
      "cell_type": "code",
      "metadata": {
        "id": "v7ZmcTQ3fb9p",
        "colab": {
          "base_uri": "https://localhost:8080/"
        },
        "outputId": "802cc9a5-2c47-4c89-ce7f-f50352a06ab3"
      },
      "source": [
        "reg.score(X_train,y_train)"
      ],
      "execution_count": null,
      "outputs": [
        {
          "output_type": "execute_result",
          "data": {
            "text/plain": [
              "0.07082906969777525"
            ]
          },
          "metadata": {
            "tags": []
          },
          "execution_count": 21
        }
      ]
    },
    {
      "cell_type": "code",
      "metadata": {
        "colab": {
          "base_uri": "https://localhost:8080/"
        },
        "id": "TVHNyOWUaSbo",
        "outputId": "41314a65-dd18-44b0-bf11-4c91e4f3f500"
      },
      "source": [
        "X_train.shape"
      ],
      "execution_count": null,
      "outputs": [
        {
          "output_type": "execute_result",
          "data": {
            "text/plain": [
              "(8820, 1167)"
            ]
          },
          "metadata": {
            "tags": []
          },
          "execution_count": 22
        }
      ]
    },
    {
      "cell_type": "code",
      "metadata": {
        "colab": {
          "base_uri": "https://localhost:8080/"
        },
        "id": "qPD2TZTjaSzg",
        "outputId": "a0ad7198-c775-4dbc-9e95-0df3863adf46"
      },
      "source": [
        "import sys, os\n",
        "sys.path.append(os.path.abspath(os.path.join('../..')))\n",
        "def load_ICU_Pricing(path):\n",
        "    #column_names = [\"CalYear\",\"Gender\",\"Type\",\"Category\",\"Occupation\",\"Age\",\"Group1\",\"Bonus\",\"Poldur\",\"Value\",\"Adind\",\"SubGroup2\",\"Group2\",\"Density\",\"Y\"]\n",
        "    #input_data = (pd.read_csv(path, #names=column_names,\n",
        "    #                           sep=r',', engine='python', keep_default_na=False, na_values=['NA']))\n",
        "    \n",
        "    path = \"http://grarivincent.com/research/db4ModelFull2.csv\"\n",
        "    input_data = (pd.read_csv(path, #names=column_names,\n",
        "                                sep=r',', engine='python', na_values=['NA']))\n",
        "    input_data=input_data.drop(columns=['Unnamed: 0'])\n",
        "    \n",
        "    base=baseINSEE\n",
        "    base = base[~base.pol_insee_code.str[:2].isin([\"2A\",\"2B\"])]\n",
        "    base[\"pol_insee_code\"] = base[\"pol_insee_code\"].astype(int)\n",
        "    base_nd =  base.drop_duplicates(subset=['pol_insee_code'])\n",
        "\n",
        "    input_data = input_data.drop_duplicates()\n",
        "    input_data = input_data[~input_data.pol_insee_code.str[:2].isin([\"2A\",\"2B\"])]\n",
        "    input_data[\"pol_insee_code\"] = input_data[\"pol_insee_code\"].astype(int)\n",
        "\n",
        "    input_data = input_data.merge(base_nd, how='inner', on=\"pol_insee_code\")\n",
        "    #input_data = input_data[input_data['claim_amount']<=5000]\n",
        "    #input_data=input_data[input_data['claim_amount']!=0]\n",
        "   \n",
        "    #\n",
        "    sensitive_attribs = ['Age']\n",
        "    print(input_data.shape)\n",
        "    G0 = (input_data.iloc[:, 37:180]) #137])\n",
        "    #Z0 = pd.concat(Z0,input_data['long'])\n",
        "    G0=G0.select_dtypes([np.number])\n",
        "    G0 = G0.fillna(G0.mean())\n",
        "    G=G0\n",
        "    #Z = (Z0\n",
        "    #    .drop(columns=['\"REG\"'\n",
        "    #                   ])\n",
        "    #    .fillna('Unknown').pipe(pd.get_dummies))\n",
        "\n",
        "    y = input_data['claim_nb']\n",
        "    E  = input_data['exposure']\n",
        "    #I = input_data[\"pol_insee_code\"]\n",
        "    I = input_data[['pol_insee_code','latitude','longitude']]\n",
        "\n",
        "    # features; note that the 'target' and sentive attribute columns are dropped\n",
        "    X0 = input_data.iloc[:, 5:32]\n",
        "    \n",
        "    X = (X0\n",
        "          .drop(columns=['pol_coverage','pol_insee_code'])\n",
        "          .fillna('Unknown').pipe(pd.get_dummies))\n",
        "    INSEE = input_data.iloc[:, 36]\n",
        "    print(f\"features X: {X.shape[0]} samples, {X.shape[1]} attributes\")\n",
        "    print(f\"targets y: {y.shape[0]} samples\")\n",
        "    print(f\"sensitives E: {E.shape[0]} samples, {E.shape[0]} attributes\")\n",
        "    return X, y, G, E, I\n",
        "\n",
        "X, y, G, E, I =load_ICU_Pricing(\"http://grarivincent.com/research/db4modelfull3.csv\")"
      ],
      "execution_count": null,
      "outputs": [
        {
          "output_type": "stream",
          "text": [
            "/usr/local/lib/python3.7/dist-packages/ipykernel_launcher.py:15: SettingWithCopyWarning: \n",
            "A value is trying to be set on a copy of a slice from a DataFrame.\n",
            "Try using .loc[row_indexer,col_indexer] = value instead\n",
            "\n",
            "See the caveats in the documentation: https://pandas.pydata.org/pandas-docs/stable/user_guide/indexing.html#returning-a-view-versus-a-copy\n",
            "  from ipykernel import kernelapp as app\n"
          ],
          "name": "stderr"
        },
        {
          "output_type": "stream",
          "text": [
            "(98417, 151)\n",
            "features X: 98417 samples, 1167 attributes\n",
            "targets y: 98417 samples\n",
            "sensitives E: 98417 samples, 98417 attributes\n"
          ],
          "name": "stdout"
        }
      ]
    },
    {
      "cell_type": "code",
      "metadata": {
        "colab": {
          "base_uri": "https://localhost:8080/"
        },
        "id": "SmAv6MWokmZW",
        "outputId": "89c5d31a-90b0-4680-f327-c1a96cfd4665"
      },
      "source": [
        "path = \"http://grarivincent.com/research/db4ModelFull2.csv\"\n",
        "input_data = (pd.read_csv(path, #names=column_names,\n",
        "                            sep=r',', engine='python', na_values=['NA']))\n",
        "input_data=input_data.drop(columns=['Unnamed: 0'])\n",
        "\n",
        "base=baseINSEE\n",
        "base = base[~base.pol_insee_code.str[:2].isin([\"2A\",\"2B\"])]\n",
        "base[\"pol_insee_code\"] = base[\"pol_insee_code\"].astype(int)\n",
        "base_nd =  base.drop_duplicates(subset=['pol_insee_code'])\n",
        "\n",
        "input_data = input_data.drop_duplicates()\n",
        "input_data = input_data[~input_data.pol_insee_code.str[:2].isin([\"2A\",\"2B\"])]\n",
        "input_data[\"pol_insee_code\"] = input_data[\"pol_insee_code\"].astype(int)\n",
        "\n",
        "input_data = input_data.merge(base_nd, how='inner', on=\"pol_insee_code\")\n",
        "X0_f = input_data.iloc[:, 5:32]\n",
        "\n",
        "X_f = (X0_f\n",
        "      .drop(columns=['pol_coverage','pol_insee_code'])\n",
        "      .fillna('Unknown').pipe(pd.get_dummies))"
      ],
      "execution_count": null,
      "outputs": [
        {
          "output_type": "stream",
          "text": [
            "/usr/local/lib/python3.7/dist-packages/ipykernel_launcher.py:8: SettingWithCopyWarning: \n",
            "A value is trying to be set on a copy of a slice from a DataFrame.\n",
            "Try using .loc[row_indexer,col_indexer] = value instead\n",
            "\n",
            "See the caveats in the documentation: https://pandas.pydata.org/pandas-docs/stable/user_guide/indexing.html#returning-a-view-versus-a-copy\n",
            "  \n"
          ],
          "name": "stderr"
        }
      ]
    },
    {
      "cell_type": "code",
      "metadata": {
        "colab": {
          "base_uri": "https://localhost:8080/"
        },
        "id": "QnQpPN3laSzh",
        "outputId": "8ca838b1-f514-4de7-f595-4803a57850aa"
      },
      "source": [
        "(y>0).mean()"
      ],
      "execution_count": null,
      "outputs": [
        {
          "output_type": "execute_result",
          "data": {
            "text/plain": [
              "0.11202332930286434"
            ]
          },
          "metadata": {
            "tags": []
          },
          "execution_count": 25
        }
      ]
    },
    {
      "cell_type": "code",
      "metadata": {
        "id": "SF4SXAgyaSzh"
      },
      "source": [
        "G= G.iloc[:, :-5]"
      ],
      "execution_count": null,
      "outputs": []
    },
    {
      "cell_type": "code",
      "metadata": {
        "id": "WXYXo_RaaSzh"
      },
      "source": [
        "X_train, X_test, y_train, y_test, G_train, G_test, E_train, E_test, I_train, I_test  = train_test_split(X, y, G, E, I, test_size=0.2, random_state=7)"
      ],
      "execution_count": null,
      "outputs": []
    },
    {
      "cell_type": "code",
      "metadata": {
        "id": "05vh6iKFaSzh"
      },
      "source": [
        "scaler = StandardScaler().fit(X_train)\n",
        "scale_df = lambda df, scaler: pd.DataFrame(scaler.transform(df), columns=df.columns, index=df.index)\n",
        "X_train = X_train.pipe(scale_df, scaler) \n",
        "X_test = X_test.pipe(scale_df, scaler)\n",
        "X_f = X_f.pipe(scale_df, scaler)"
      ],
      "execution_count": null,
      "outputs": []
    },
    {
      "cell_type": "code",
      "metadata": {
        "id": "XNAk0KrBaSzi"
      },
      "source": [
        "scalerg = StandardScaler().fit(G_train)\n",
        "scale_df_g = lambda df, scalerg: pd.DataFrame(scalerg.transform(df), columns=df.columns, index=df.index)\n",
        "G_train = G_train.pipe(scale_df_g, scalerg) \n",
        "G_test = G_test.pipe(scale_df_g, scalerg)"
      ],
      "execution_count": null,
      "outputs": []
    },
    {
      "cell_type": "code",
      "metadata": {
        "id": "TuPYiK1faSzi"
      },
      "source": [
        "y_traint =np.expand_dims(y_train,axis=1)\n",
        "y_testt =np.expand_dims(y_test,axis=1)"
      ],
      "execution_count": null,
      "outputs": []
    },
    {
      "cell_type": "markdown",
      "metadata": {
        "id": "5fw2-z07aSzi"
      },
      "source": [
        "### **GLM POISSON SANS ZONIER **"
      ]
    },
    {
      "cell_type": "code",
      "metadata": {
        "colab": {
          "base_uri": "https://localhost:8080/"
        },
        "id": "yBKwYxn3aSzi",
        "outputId": "7c90d40a-037a-4849-e723-3fe789f6bbc9"
      },
      "source": [
        "# ICI il n'y a que des expsures en 1 d'ou l'offset (log(expo)) non présent \n",
        "from sklearn import linear_model\n",
        "clf = linear_model.PoissonRegressor() \n",
        "clf.fit(X_train,y_train)"
      ],
      "execution_count": null,
      "outputs": [
        {
          "output_type": "execute_result",
          "data": {
            "text/plain": [
              "PoissonRegressor()"
            ]
          },
          "metadata": {
            "tags": []
          },
          "execution_count": 31
        }
      ]
    },
    {
      "cell_type": "code",
      "metadata": {
        "id": "bbbWrETQaSzi"
      },
      "source": [
        "def EDR_POIS(yhat, y):\n",
        "  #loss=torch.mean(torch.exp(xbeta)-y*xbeta)\n",
        "  #loss=torch.mean(yhat-y*torch.log(yhat))\n",
        "  eps=0.000000000001\n",
        "  res=1-np.mean((y*np.log((y+eps)/yhat)-(y-yhat)))/np.mean((y*np.log((y+eps)/np.mean(y))))\n",
        "  return res\n",
        "\n",
        "def gini_coefficient(x):\n",
        "    \"\"\"Compute Gini coefficient of array of values\"\"\"\n",
        "    diffsum = 0\n",
        "    for i, xi in enumerate(x[:-1], 1):\n",
        "        diffsum += np.sum(np.abs(xi - x[i:]))\n",
        "    return diffsum / (len(x)**2 * np.mean(x))"
      ],
      "execution_count": null,
      "outputs": []
    },
    {
      "cell_type": "code",
      "metadata": {
        "colab": {
          "base_uri": "https://localhost:8080/"
        },
        "id": "D8nPqRQcaSzj",
        "outputId": "0e3065ac-9f80-4500-d7d9-f1a0dc7c7481"
      },
      "source": [
        "print(\" GINI Poi without zonier via Reg : \", gini_coefficient(clf.predict(X_train)))\n",
        "print(\" GINI Poi without zonier via Reg : \", gini_coefficient(clf.predict(X_test)))\n",
        "print(\" EDR POIS Poi without zonier via Reg : \", EDR_POIS(clf.predict(X_train),y_train))\n",
        "print(\" EDR POIS Poi without zonier via Reg : \", EDR_POIS(clf.predict(X_test),y_test))\n",
        "MSE_Poi_tr =  ((clf.predict(X_train)-y_train)**2).mean()\n",
        "MSE_Poi_test =  ((clf.predict(X_test)-y_test)**2).mean()\n",
        "print(\" MSE Poi without zonier via Reg : \", MSE_Poi_tr)\n",
        "print(\" MSE Poi without zonier via Reg : \", MSE_Poi_test)"
      ],
      "execution_count": null,
      "outputs": [
        {
          "output_type": "stream",
          "text": [
            " GINI Poi without zonier via Reg :  0.08640736299232982\n",
            " GINI Poi without zonier via Reg :  0.08651112504694738\n",
            " EDR POIS Poi without zonier via Reg :  0.026092476605271142\n",
            " EDR POIS Poi without zonier via Reg :  0.021348395990629987\n",
            " MSE Poi without zonier via Reg :  0.1339346177925705\n",
            " MSE Poi without zonier via Reg :  0.13263329271680574\n"
          ],
          "name": "stdout"
        }
      ]
    },
    {
      "cell_type": "code",
      "metadata": {
        "id": "SU_sGuqRberF"
      },
      "source": [
        "FREQ = clf.predict(X_train)\n",
        "CM= reg.predict(X_train)"
      ],
      "execution_count": null,
      "outputs": []
    },
    {
      "cell_type": "code",
      "metadata": {
        "colab": {
          "base_uri": "https://localhost:8080/"
        },
        "id": "YGVJEpszbjtO",
        "outputId": "498129eb-a3f9-4ea1-cf74-a7e1cd66284a"
      },
      "source": [
        "FREQ"
      ],
      "execution_count": null,
      "outputs": [
        {
          "output_type": "execute_result",
          "data": {
            "text/plain": [
              "array([0.11904605, 0.13147519, 0.12791458, ..., 0.11953604, 0.13345521,\n",
              "       0.16311184])"
            ]
          },
          "metadata": {
            "tags": []
          },
          "execution_count": 35
        }
      ]
    },
    {
      "cell_type": "code",
      "metadata": {
        "colab": {
          "base_uri": "https://localhost:8080/"
        },
        "id": "8JvKjxKrd1Ok",
        "outputId": "7d17328d-ea5f-4eb7-d536-0b998af181a9"
      },
      "source": [
        "CM"
      ],
      "execution_count": null,
      "outputs": [
        {
          "output_type": "execute_result",
          "data": {
            "text/plain": [
              "array([ 870.11497723, 1007.00289405, 1041.24901349, ..., 1389.4234503 ,\n",
              "       1106.50754425, 1167.91980885])"
            ]
          },
          "metadata": {
            "tags": []
          },
          "execution_count": 36
        }
      ]
    },
    {
      "cell_type": "code",
      "metadata": {
        "id": "z_cYkCbegxBT"
      },
      "source": [
        "X_final=input_data"
      ],
      "execution_count": null,
      "outputs": []
    },
    {
      "cell_type": "code",
      "metadata": {
        "id": "p6h5RSU0eXK5"
      },
      "source": [
        "X_final['FREQ'] = clf.predict(X_f)\n",
        "X_final['CM'] = reg.predict(X_f)\n",
        "X_final['PP'] = X_final['FREQ']*X_final['CM']"
      ],
      "execution_count": null,
      "outputs": []
    },
    {
      "cell_type": "code",
      "metadata": {
        "colab": {
          "base_uri": "https://localhost:8080/"
        },
        "id": "yQx4VDD9_JIC",
        "outputId": "8106b581-e9de-4861-c6de-3f7aed1da0f8"
      },
      "source": [
        "X_final['PP'].mean()"
      ],
      "execution_count": null,
      "outputs": [
        {
          "output_type": "execute_result",
          "data": {
            "text/plain": [
              "132.56949638415253"
            ]
          },
          "metadata": {
            "tags": []
          },
          "execution_count": 45
        }
      ]
    },
    {
      "cell_type": "code",
      "metadata": {
        "id": "74B-PxVR_x1d",
        "colab": {
          "base_uri": "https://localhost:8080/"
        },
        "outputId": "f011e2a7-b4ff-48c4-9102-cd1dc1608e42"
      },
      "source": [
        "input_data['claim_amount'].mean()"
      ],
      "execution_count": null,
      "outputs": [
        {
          "output_type": "execute_result",
          "data": {
            "text/plain": [
              "124.09248483493673"
            ]
          },
          "metadata": {
            "tags": []
          },
          "execution_count": 53
        }
      ]
    },
    {
      "cell_type": "code",
      "metadata": {
        "colab": {
          "base_uri": "https://localhost:8080/"
        },
        "id": "wJuU6plQOuMb",
        "outputId": "f6d46ab2-383f-4594-b2a4-2bf81d61648a"
      },
      "source": [
        "X_final.shape"
      ],
      "execution_count": null,
      "outputs": [
        {
          "output_type": "execute_result",
          "data": {
            "text/plain": [
              "(98417, 154)"
            ]
          },
          "metadata": {
            "tags": []
          },
          "execution_count": 39
        }
      ]
    },
    {
      "cell_type": "code",
      "metadata": {
        "colab": {
          "base_uri": "https://localhost:8080/"
        },
        "id": "MnblCZdZPzOD",
        "outputId": "761a34b2-881d-40b3-e851-9b29d6363f59"
      },
      "source": [
        "input_data.iloc[:, 5:32].shape"
      ],
      "execution_count": null,
      "outputs": [
        {
          "output_type": "execute_result",
          "data": {
            "text/plain": [
              "(98417, 27)"
            ]
          },
          "metadata": {
            "tags": []
          },
          "execution_count": 40
        }
      ]
    },
    {
      "cell_type": "code",
      "metadata": {
        "id": "zNdNHCPTPzUf"
      },
      "source": [
        "X_final=input_data.iloc[:, 5:32]"
      ],
      "execution_count": null,
      "outputs": []
    },
    {
      "cell_type": "code",
      "metadata": {
        "id": "Pv-FLAIgPzUf"
      },
      "source": [
        "X_final['FREQ'] = clf.predict(X_f)\n",
        "X_final['CM'] = reg.predict(X_f)\n",
        "X_final['PP'] = X_final['FREQ']*X_final['CM']"
      ],
      "execution_count": null,
      "outputs": []
    },
    {
      "cell_type": "code",
      "metadata": {
        "colab": {
          "base_uri": "https://localhost:8080/"
        },
        "id": "LWKTeef7PzUf",
        "outputId": "599bfd75-4730-4531-9a63-86d54c1fec33"
      },
      "source": [
        "X_final.shape"
      ],
      "execution_count": null,
      "outputs": [
        {
          "output_type": "execute_result",
          "data": {
            "text/plain": [
              "(98417, 30)"
            ]
          },
          "metadata": {
            "tags": []
          },
          "execution_count": 43
        }
      ]
    },
    {
      "cell_type": "code",
      "metadata": {
        "id": "U4UVqKEdgm0X"
      },
      "source": [
        "X_final.to_csv('final.csv', header=True, index=None, sep=';')"
      ],
      "execution_count": null,
      "outputs": []
    },
    {
      "cell_type": "markdown",
      "metadata": {
        "id": "FozhfqsfPzxN"
      },
      "source": [
        ""
      ]
    },
    {
      "cell_type": "code",
      "metadata": {
        "id": "tzYb6mKMg6jN",
        "colab": {
          "base_uri": "https://localhost:8080/"
        },
        "outputId": "ef2d3a03-827b-4c5d-bf8f-36673cd226ee"
      },
      "source": [
        ""
      ],
      "execution_count": null,
      "outputs": [
        {
          "output_type": "execute_result",
          "data": {
            "text/plain": [
              "124.09248483493673"
            ]
          },
          "metadata": {
            "tags": []
          },
          "execution_count": 52
        }
      ]
    },
    {
      "cell_type": "code",
      "metadata": {
        "id": "5MssXmU1_u0Q"
      },
      "source": [
        ""
      ],
      "execution_count": null,
      "outputs": []
    }
  ]
}