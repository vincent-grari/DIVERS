{
  "nbformat": 4,
  "nbformat_minor": 0,
  "metadata": {
    "colab": {
      "name": "Bienvenue dans Colaboratory",
      "provenance": [],
      "collapsed_sections": [],
      "include_colab_link": true
    },
    "kernelspec": {
      "display_name": "Python 3",
      "name": "python3"
    }
  },
  "cells": [
    {
      "cell_type": "markdown",
      "metadata": {
        "id": "view-in-github",
        "colab_type": "text"
      },
      "source": [
        "<a href=\"https://colab.research.google.com/github/vincent-grari/DIVERS/blob/main/toyscenario.ipynb\" target=\"_parent\"><img src=\"https://colab.research.google.com/assets/colab-badge.svg\" alt=\"Open In Colab\"/></a>"
      ]
    },
    {
      "cell_type": "code",
      "metadata": {
        "colab": {
          "base_uri": "https://localhost:8080/"
        },
        "id": "di2pNar6wXuE",
        "outputId": "81b2faaf-6509-401b-8dd4-0e29d9ea2385"
      },
      "source": [
        "!pip3 install geojsoncontour"
      ],
      "execution_count": 63,
      "outputs": [
        {
          "output_type": "stream",
          "name": "stdout",
          "text": [
            "Requirement already satisfied: geojsoncontour in /usr/local/lib/python3.7/dist-packages (0.4.0)\n",
            "Requirement already satisfied: numpy in /usr/local/lib/python3.7/dist-packages (from geojsoncontour) (1.19.5)\n",
            "Requirement already satisfied: geojson in /usr/local/lib/python3.7/dist-packages (from geojsoncontour) (2.5.0)\n",
            "Requirement already satisfied: matplotlib in /usr/local/lib/python3.7/dist-packages (from geojsoncontour) (3.2.2)\n",
            "Requirement already satisfied: xarray in /usr/local/lib/python3.7/dist-packages (from geojsoncontour) (0.18.2)\n",
            "Requirement already satisfied: cycler>=0.10 in /usr/local/lib/python3.7/dist-packages (from matplotlib->geojsoncontour) (0.10.0)\n",
            "Requirement already satisfied: python-dateutil>=2.1 in /usr/local/lib/python3.7/dist-packages (from matplotlib->geojsoncontour) (2.8.2)\n",
            "Requirement already satisfied: pyparsing!=2.0.4,!=2.1.2,!=2.1.6,>=2.0.1 in /usr/local/lib/python3.7/dist-packages (from matplotlib->geojsoncontour) (2.4.7)\n",
            "Requirement already satisfied: kiwisolver>=1.0.1 in /usr/local/lib/python3.7/dist-packages (from matplotlib->geojsoncontour) (1.3.2)\n",
            "Requirement already satisfied: six in /usr/local/lib/python3.7/dist-packages (from cycler>=0.10->matplotlib->geojsoncontour) (1.15.0)\n",
            "Requirement already satisfied: pandas>=1.0 in /usr/local/lib/python3.7/dist-packages (from xarray->geojsoncontour) (1.1.5)\n",
            "Requirement already satisfied: setuptools>=40.4 in /usr/local/lib/python3.7/dist-packages (from xarray->geojsoncontour) (57.4.0)\n",
            "Requirement already satisfied: pytz>=2017.2 in /usr/local/lib/python3.7/dist-packages (from pandas>=1.0->xarray->geojsoncontour) (2018.9)\n"
          ]
        }
      ]
    },
    {
      "cell_type": "code",
      "metadata": {
        "colab": {
          "base_uri": "https://localhost:8080/",
          "height": 265
        },
        "id": "xyLIDn1swZSL",
        "outputId": "13ccf7aa-a6dc-4dcd-d6c5-ec99ae9371da"
      },
      "source": [
        "#!/usr/bin/env python\n",
        "# -*- coding: utf-8 -*-\n",
        "\n",
        "import numpy as np\n",
        "import pandas as pd\n",
        "import folium\n",
        "import branca\n",
        "from folium import plugins\n",
        "import matplotlib.pyplot as plt\n",
        "from scipy.interpolate import griddata\n",
        "import geojsoncontour\n",
        "import scipy as sp\n",
        "import scipy.ndimage\n",
        "\n",
        "# Setup\n",
        "temp_mean = 12\n",
        "temp_std  = 2\n",
        "debug     = False\n",
        "\n",
        "# Setup colormap\n",
        "colors = ['#d7191c',  '#fdae61',  '#ffffbf',  '#abdda4',  '#2b83ba']\n",
        "vmin   = temp_mean - 2 * temp_std\n",
        "vmax   = temp_mean + 2 * temp_std\n",
        "levels = len(colors)\n",
        "cm     = branca.colormap.LinearColormap(colors, vmin=vmin, vmax=vmax).to_step(levels)\n",
        "\n",
        "# Create a dataframe with fake data\n",
        "df = pd.DataFrame({\n",
        "    'longitude':   np.random.normal(2.75,     1.,     2000),\n",
        "    'latitude':    np.random.normal(46.8,     0.8,     2000),\n",
        "    })\n",
        "\n",
        "\n",
        "df['temperature']= (df['latitude']-46.8)**2 + (df['longitude']-2.75)**2\n",
        "# The original data\n",
        "x_orig = np.asarray(df.longitude.tolist())\n",
        "y_orig = np.asarray(df.latitude.tolist())\n",
        "z_orig = np.asarray(df.temperature.tolist())\n",
        "\n",
        "# Make a grid\n",
        "x_arr          = np.linspace(np.min(x_orig), np.max(x_orig), 500)\n",
        "y_arr          = np.linspace(np.min(y_orig), np.max(y_orig), 500)\n",
        "x_mesh, y_mesh = np.meshgrid(x_arr, y_arr)\n",
        "\n",
        "# Grid the values\n",
        "z_mesh = griddata((x_orig, y_orig), z_orig, (x_mesh, y_mesh), method='cubic')\n",
        "\n",
        "# Gaussian filter the grid to make it smoother\n",
        "sigma = [5, 5]\n",
        "#z_mesh = sp.ndimage.filters.gaussian_filter(z_mesh, sigma, mode='constant')\n",
        "\n",
        "# Create the contour\n",
        "contourf = plt.contourf(x_mesh, y_mesh, z_mesh, levels, alpha=0.5, colors=colors, linestyles='None', vmin=vmin, vmax=vmax)\n",
        "\n",
        "# Convert matplotlib contourf to geojson\n",
        "geojson = geojsoncontour.contourf_to_geojson(\n",
        "    contourf=contourf,\n",
        "    min_angle_deg=3.0,\n",
        "    ndigits=15,\n",
        "    stroke_width=1,\n",
        "    fill_opacity=0.5)\n",
        "\n",
        "# Set up the folium plot\n",
        "geomap = folium.Map([df.latitude.mean(), df.longitude.mean()], zoom_start=10, tiles=\"cartodbpositron\")\n",
        "\n",
        "# Plot the contour plot on folium\n",
        "folium.GeoJson(\n",
        "    geojson,\n",
        "    style_function=lambda x: {\n",
        "        'color':     x['properties']['stroke'],\n",
        "        'weight':    x['properties']['stroke-width'],\n",
        "        'fillColor': x['properties']['fill'],\n",
        "        'opacity':   0.6,\n",
        "    }).add_to(geomap)\n",
        "\n",
        "# Add the colormap to the folium map\n",
        "cm.caption = 'Temperature'\n",
        "geomap.add_child(cm)\n",
        "\n",
        "# Fullscreen mode\n",
        "plugins.Fullscreen(position='topright', force_separate_button=True).add_to(geomap)\n",
        "\n",
        "# Plot the data\n",
        "geomap.save(f'folium_contour_temperature_map.html')"
      ],
      "execution_count": 102,
      "outputs": [
        {
          "output_type": "display_data",
          "data": {
            "image/png": "[encoded data removed]",
            "text/plain": [
              "<Figure size 432x288 with 1 Axes>"
            ]
          },
          "metadata": {
            "needs_background": "light"
          }
        }
      ]
    },
    {
      "cell_type": "code",
      "metadata": {
        "id": "6u3hVsVkwqMQ"
      },
      "source": [
        ""
      ],
      "execution_count": null,
      "outputs": []
    }
  ]
}