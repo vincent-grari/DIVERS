{
  "nbformat": 4,
  "nbformat_minor": 0,
  "metadata": {
    "colab": {
      "name": "Bienvenue dans Colaboratory",
      "provenance": [],
      "collapsed_sections": [],
      "include_colab_link": true
    },
    "kernelspec": {
      "display_name": "Python 3",
      "name": "python3"
    }
  },
  "cells": [
    {
      "cell_type": "markdown",
      "metadata": {
        "id": "view-in-github",
        "colab_type": "text"
      },
      "source": [
        "<a href=\"https://colab.research.google.com/github/vincent-grari/DIVERS/blob/main/toyscenario.ipynb\" target=\"_parent\"><img src=\"https://colab.research.google.com/assets/colab-badge.svg\" alt=\"Open In Colab\"/></a>"
      ]
    },
    {
      "cell_type": "code",
      "metadata": {
        "colab": {
          "base_uri": "https://localhost:8080/"
        },
        "id": "di2pNar6wXuE",
        "outputId": "81b2faaf-6509-401b-8dd4-0e29d9ea2385"
      },
      "source": [
        "!pip3 install geojsoncontour"
      ],
      "execution_count": 63,
      "outputs": [
        {
          "output_type": "stream",
          "name": "stdout",
          "text": [
            "Requirement already satisfied: geojsoncontour in /usr/local/lib/python3.7/dist-packages (0.4.0)\n",
            "Requirement already satisfied: numpy in /usr/local/lib/python3.7/dist-packages (from geojsoncontour) (1.19.5)\n",
            "Requirement already satisfied: geojson in /usr/local/lib/python3.7/dist-packages (from geojsoncontour) (2.5.0)\n",
            "Requirement already satisfied: matplotlib in /usr/local/lib/python3.7/dist-packages (from geojsoncontour) (3.2.2)\n",
            "Requirement already satisfied: xarray in /usr/local/lib/python3.7/dist-packages (from geojsoncontour) (0.18.2)\n",
            "Requirement already satisfied: cycler>=0.10 in /usr/local/lib/python3.7/dist-packages (from matplotlib->geojsoncontour) (0.10.0)\n",
            "Requirement already satisfied: python-dateutil>=2.1 in /usr/local/lib/python3.7/dist-packages (from matplotlib->geojsoncontour) (2.8.2)\n",
            "Requirement already satisfied: pyparsing!=2.0.4,!=2.1.2,!=2.1.6,>=2.0.1 in /usr/local/lib/python3.7/dist-packages (from matplotlib->geojsoncontour) (2.4.7)\n",
            "Requirement already satisfied: kiwisolver>=1.0.1 in /usr/local/lib/python3.7/dist-packages (from matplotlib->geojsoncontour) (1.3.2)\n",
            "Requirement already satisfied: six in /usr/local/lib/python3.7/dist-packages (from cycler>=0.10->matplotlib->geojsoncontour) (1.15.0)\n",
            "Requirement already satisfied: pandas>=1.0 in /usr/local/lib/python3.7/dist-packages (from xarray->geojsoncontour) (1.1.5)\n",
            "Requirement already satisfied: setuptools>=40.4 in /usr/local/lib/python3.7/dist-packages (from xarray->geojsoncontour) (57.4.0)\n",
            "Requirement already satisfied: pytz>=2017.2 in /usr/local/lib/python3.7/dist-packages (from pandas>=1.0->xarray->geojsoncontour) (2018.9)\n"
          ]
        }
      ]
    },
    {
      "cell_type": "code",
      "metadata": {
        "id": "O_Vd_gr8DMH4",
        "outputId": "25ce5354-852a-4303-c4d0-d2df552bf31d",
        "colab": {
          "base_uri": "https://localhost:8080/"
        }
      },
      "source": [
        "!git clone https://github.com/diana-hep/carl.git"
      ],
      "execution_count": 125,
      "outputs": [
        {
          "output_type": "stream",
          "name": "stdout",
          "text": [
            "Cloning into 'carl'...\n",
            "remote: Enumerating objects: 1974, done.\u001b[K\n",
            "remote: Total 1974 (delta 0), reused 0 (delta 0), pack-reused 1974\u001b[K\n",
            "Receiving objects: 100% (1974/1974), 6.98 MiB | 19.36 MiB/s, done.\n",
            "Resolving deltas: 100% (1228/1228), done.\n"
          ]
        }
      ]
    },
    {
      "cell_type": "code",
      "metadata": {
        "id": "tX70ol39DWnZ",
        "outputId": "eaa7e102-748a-4000-a2f6-a5bb0a0f3b8f",
        "colab": {
          "base_uri": "https://localhost:8080/"
        }
      },
      "source": [
        "%cd carl"
      ],
      "execution_count": 132,
      "outputs": [
        {
          "output_type": "stream",
          "name": "stdout",
          "text": [
            "/content/carl/carl\n"
          ]
        }
      ]
    },
    {
      "cell_type": "code",
      "metadata": {
        "id": "tG0w1bvODqs6"
      },
      "source": [
        "import os\n",
        "os.mkdir(\"carl\")"
      ],
      "execution_count": 135,
      "outputs": []
    },
    {
      "cell_type": "code",
      "metadata": {
        "id": "69cMQ58YDbMP",
        "outputId": "2b067ed0-bfd0-4507-db07-e4f65e17c501",
        "colab": {
          "base_uri": "https://localhost:8080/"
        }
      },
      "source": [
        "%cd carl\n",
        "!python3 setup.py install"
      ],
      "execution_count": 142,
      "outputs": [
        {
          "output_type": "stream",
          "name": "stdout",
          "text": [
            "/content/carl/carl/carl\n",
            "python3: can't open file 'setup.py': [Errno 2] No such file or directory\n"
          ]
        }
      ]
    },
    {
      "cell_type": "code",
      "metadata": {
        "colab": {
          "base_uri": "https://localhost:8080/",
          "height": 409
        },
        "id": "xyLIDn1swZSL",
        "outputId": "8ad525b9-78dd-418e-976a-d35bd1dd3170"
      },
      "source": [
        "import numpy as np\n",
        "import pandas as pd\n",
        "import folium\n",
        "import branca\n",
        "from folium import plugins\n",
        "import matplotlib.pyplot as plt\n",
        "from scipy.interpolate import griddata\n",
        "import geojsoncontour\n",
        "import scipy as sp\n",
        "import scipy.ndimage\n",
        "import sys\n",
        "import numpy.random as npr\n",
        "import tensorflow as tf\n",
        "import torch\n",
        "import torch.nn as nn\n",
        "import torch.nn.functional as F\n",
        "import matplotlib.pyplot as plt\n",
        "plt.rcParams[\"figure.figsize\"] = (6,6)\n",
        "plt.rcParams[\"font.size\"] = 16.0\n",
        "\n",
        "import numpy as np\n",
        "from numpy.testing import assert_array_equal\n",
        "\n",
        "from carl.carl.distributions import Mixture, MultivariateNormal, Uniform, Normal\n",
        "import matplotlib as mpl\n",
        "import matplotlib.pyplot as plt\n",
        "from matplotlib.mlab import griddata\n",
        "\n",
        "np.random.seed(1)\n",
        "\n",
        "\n",
        "# Setup\n",
        "temp_mean = 12\n",
        "temp_std  = 2\n",
        "debug     = False\n",
        "\n",
        "# Setup colormap\n",
        "colors = ['#d7191c',  '#fdae61',  '#ffffbf',  '#abdda4',  '#2b83ba']\n",
        "vmin   = temp_mean - 2 * temp_std\n",
        "vmax   = temp_mean + 2 * temp_std\n",
        "levels = len(colors)\n",
        "cm     = branca.colormap.LinearColormap(colors, vmin=vmin, vmax=vmax).to_step(levels)\n",
        "n_samples = 2000\n",
        "# Create a dataframe with fake data\n",
        "XG = pd.DataFrame({\n",
        "    'longitude':   np.random.normal(2.75,     1.,     n_samples),\n",
        "    'latitude':    np.random.normal(46.8,     0.8,     n_samples),\n",
        "    })\n",
        "\n",
        "XG['salaire'] = ((XG['latitude']-46.8)**2 + (XG['longitude']-2.75)**2)*1000+1000\n",
        "XG['temperature']= (XG['latitude']-46.8) *20+20\n",
        "\n",
        "\n",
        "p0 = MultivariateNormal(mu=np.array([0., 0.]), sigma=np.array([[1., -0.5], [-0.5, 1.]]))\n",
        "p1 = MultivariateNormal(mu=np.array([1., 1.]), sigma=np.eye(2))\n",
        "ps = Normal(mu=0.0, sigma=1.0)\n",
        "\n",
        "X0 = p0.rvs(n_samples // 2, random_state = 1)\n",
        "X1 = p1.rvs(n_samples // 2, random_state = 1)\n",
        "s = ps.rvs(n_samples, random_state = 1).ravel()\n",
        "X1[:, 1] += 3*np.sin(s[n_samples // 2:])\n",
        "\n",
        "X = np.vstack([X0, X1])\n",
        "y = np.zeros(n_samples)\n",
        "y[n_samples // 2:] = 1\n",
        "\n",
        "\n",
        "# The original data\n",
        "x_orig = np.asarray(df.longitude.tolist())\n",
        "y_orig = np.asarray(df.latitude.tolist())\n",
        "z_orig = np.asarray(df.salaire.tolist())\n",
        "\n",
        "# Make a grid\n",
        "x_arr          = np.linspace(np.min(x_orig), np.max(x_orig), 500)\n",
        "y_arr          = np.linspace(np.min(y_orig), np.max(y_orig), 500)\n",
        "x_mesh, y_mesh = np.meshgrid(x_arr, y_arr)\n",
        "\n",
        "# Grid the values\n",
        "z_mesh = griddata((x_orig, y_orig), z_orig, (x_mesh, y_mesh), method='cubic')\n",
        "\n",
        "# Gaussian filter the grid to make it smoother\n",
        "sigma = [5, 5]\n",
        "z_mesh = sp.ndimage.filters.gaussian_filter(z_mesh, sigma, mode='constant')\n",
        "\n",
        "# Create the contour\n",
        "contourf = plt.contourf(x_mesh, y_mesh, z_mesh, levels, alpha=0.5, colors=colors, linestyles='None', vmin=vmin, vmax=vmax)\n",
        "\n",
        "# Convert matplotlib contourf to geojson\n",
        "geojson = geojsoncontour.contourf_to_geojson(\n",
        "    contourf=contourf,\n",
        "    min_angle_deg=3.0,\n",
        "    ndigits=5,\n",
        "    stroke_width=1,\n",
        "    fill_opacity=0.5)\n",
        "\n",
        "# Set up the folium plot\n",
        "geomap = folium.Map([df.latitude.mean(), df.longitude.mean()], zoom_start=10, tiles=\"cartodbpositron\")\n",
        "\n",
        "# Plot the contour plot on folium\n",
        "folium.GeoJson(\n",
        "    geojson,\n",
        "    style_function=lambda x: {\n",
        "        'color':     x['properties']['stroke'],\n",
        "        'weight':    x['properties']['stroke-width'],\n",
        "        'fillColor': x['properties']['fill'],\n",
        "        'opacity':   0.6,\n",
        "    }).add_to(geomap)\n",
        "\n",
        "# Add the colormap to the folium map\n",
        "cm.caption = 'Temperature'\n",
        "geomap.add_child(cm)\n",
        "\n",
        "# Fullscreen mode\n",
        "plugins.Fullscreen(position='topright', force_separate_button=True).add_to(geomap)\n",
        "\n",
        "# Plot the data\n",
        "geomap.save(f'folium_contour_temperature_map.html')"
      ],
      "execution_count": 128,
      "outputs": [
        {
          "output_type": "error",
          "ename": "ModuleNotFoundError",
          "evalue": "ignored",
          "traceback": [
            "\u001b[0;31m---------------------------------------------------------------------------\u001b[0m",
            "\u001b[0;31mModuleNotFoundError\u001b[0m                       Traceback (most recent call last)",
            "\u001b[0;32m<ipython-input-128-f9b472fa6eff>\u001b[0m in \u001b[0;36m<module>\u001b[0;34m()\u001b[0m\n\u001b[1;32m     22\u001b[0m \u001b[0;32mfrom\u001b[0m \u001b[0mnumpy\u001b[0m\u001b[0;34m.\u001b[0m\u001b[0mtesting\u001b[0m \u001b[0;32mimport\u001b[0m \u001b[0massert_array_equal\u001b[0m\u001b[0;34m\u001b[0m\u001b[0;34m\u001b[0m\u001b[0m\n\u001b[1;32m     23\u001b[0m \u001b[0;34m\u001b[0m\u001b[0m\n\u001b[0;32m---> 24\u001b[0;31m \u001b[0;32mfrom\u001b[0m \u001b[0mcarl\u001b[0m\u001b[0;34m.\u001b[0m\u001b[0mcarl\u001b[0m\u001b[0;34m.\u001b[0m\u001b[0mdistributions\u001b[0m \u001b[0;32mimport\u001b[0m \u001b[0mMixture\u001b[0m\u001b[0;34m,\u001b[0m \u001b[0mMultivariateNormal\u001b[0m\u001b[0;34m,\u001b[0m \u001b[0mUniform\u001b[0m\u001b[0;34m,\u001b[0m \u001b[0mNormal\u001b[0m\u001b[0;34m\u001b[0m\u001b[0;34m\u001b[0m\u001b[0m\n\u001b[0m\u001b[1;32m     25\u001b[0m \u001b[0;32mimport\u001b[0m \u001b[0mmatplotlib\u001b[0m \u001b[0;32mas\u001b[0m \u001b[0mmpl\u001b[0m\u001b[0;34m\u001b[0m\u001b[0;34m\u001b[0m\u001b[0m\n\u001b[1;32m     26\u001b[0m \u001b[0;32mimport\u001b[0m \u001b[0mmatplotlib\u001b[0m\u001b[0;34m.\u001b[0m\u001b[0mpyplot\u001b[0m \u001b[0;32mas\u001b[0m \u001b[0mplt\u001b[0m\u001b[0;34m\u001b[0m\u001b[0;34m\u001b[0m\u001b[0m\n",
            "\u001b[0;31mModuleNotFoundError\u001b[0m: No module named 'carl.carl.distributions'; 'carl.carl' is not a package",
            "",
            "\u001b[0;31m---------------------------------------------------------------------------\u001b[0;32m\nNOTE: If your import is failing due to a missing package, you can\nmanually install dependencies using either !pip or !apt.\n\nTo view examples of installing some common dependencies, click the\n\"Open Examples\" button below.\n\u001b[0;31m---------------------------------------------------------------------------\u001b[0m\n"
          ],
          "errorDetails": {
            "actions": [
              {
                "action": "open_url",
                "actionText": "Open Examples",
                "url": "/notebooks/snippets/importing_libraries.ipynb"
              }
            ]
          }
        }
      ]
    },
    {
      "cell_type": "code",
      "metadata": {
        "id": "ZoeePTkk6aOo",
        "outputId": "85184cc8-257a-44f6-c286-e2bf3345e5b5",
        "colab": {
          "base_uri": "https://localhost:8080/"
        }
      },
      "source": [
        "df['temperature']"
      ],
      "execution_count": 108,
      "outputs": [
        {
          "output_type": "execute_result",
          "data": {
            "text/plain": [
              "0        1768.427316\n",
              "1        1965.561979\n",
              "2        1043.088238\n",
              "3        1521.226565\n",
              "4        2911.898428\n",
              "            ...     \n",
              "1995     1684.453889\n",
              "1996     1511.289788\n",
              "1997     7280.875566\n",
              "1998    12980.835112\n",
              "1999     2552.727176\n",
              "Name: temperature, Length: 2000, dtype: float64"
            ]
          },
          "metadata": {},
          "execution_count": 108
        }
      ]
    },
    {
      "cell_type": "code",
      "metadata": {
        "id": "vgHWNpBC6Faf",
        "outputId": "78d5c348-e8be-415b-b2ac-22f839da1c23",
        "colab": {
          "base_uri": "https://localhost:8080/"
        }
      },
      "source": [
        ".mean()"
      ],
      "execution_count": 106,
      "outputs": [
        {
          "output_type": "execute_result",
          "data": {
            "text/plain": [
              "2543.9966258507584"
            ]
          },
          "metadata": {},
          "execution_count": 106
        }
      ]
    },
    {
      "cell_type": "code",
      "metadata": {
        "id": "6u3hVsVkwqMQ"
      },
      "source": [
        ""
      ],
      "execution_count": null,
      "outputs": []
    }
  ]
}