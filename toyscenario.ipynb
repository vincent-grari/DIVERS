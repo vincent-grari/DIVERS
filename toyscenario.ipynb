{
  "nbformat": 4,
  "nbformat_minor": 0,
  "metadata": {
    "colab": {
      "name": "Bienvenue dans Colaboratory",
      "provenance": [],
      "collapsed_sections": [],
      "include_colab_link": true
    },
    "kernelspec": {
      "display_name": "Python 3",
      "name": "python3"
    }
  },
  "cells": [
    {
      "cell_type": "markdown",
      "metadata": {
        "id": "view-in-github",
        "colab_type": "text"
      },
      "source": [
        "<a href=\"https://colab.research.google.com/github/vincent-grari/DIVERS/blob/main/toyscenario.ipynb\" target=\"_parent\"><img src=\"https://colab.research.google.com/assets/colab-badge.svg\" alt=\"Open In Colab\"/></a>"
      ]
    },
    {
      "cell_type": "code",
      "metadata": {
        "colab": {
          "base_uri": "https://localhost:8080/"
        },
        "id": "di2pNar6wXuE",
        "outputId": "f6e1bec0-b7f8-4a69-a09c-81641fa701d4"
      },
      "source": [
        "!pip3 install geojsoncontour"
      ],
      "execution_count": 1,
      "outputs": [
        {
          "output_type": "stream",
          "name": "stdout",
          "text": [
            "Collecting geojsoncontour\n",
            "  Downloading geojsoncontour-0.4.0-py3-none-any.whl (7.3 kB)\n",
            "Collecting geojson\n",
            "  Downloading geojson-2.5.0-py2.py3-none-any.whl (14 kB)\n",
            "Requirement already satisfied: xarray in /usr/local/lib/python3.7/dist-packages (from geojsoncontour) (0.18.2)\n",
            "Requirement already satisfied: matplotlib in /usr/local/lib/python3.7/dist-packages (from geojsoncontour) (3.2.2)\n",
            "Requirement already satisfied: numpy in /usr/local/lib/python3.7/dist-packages (from geojsoncontour) (1.19.5)\n",
            "Requirement already satisfied: python-dateutil>=2.1 in /usr/local/lib/python3.7/dist-packages (from matplotlib->geojsoncontour) (2.8.2)\n",
            "Requirement already satisfied: cycler>=0.10 in /usr/local/lib/python3.7/dist-packages (from matplotlib->geojsoncontour) (0.10.0)\n",
            "Requirement already satisfied: kiwisolver>=1.0.1 in /usr/local/lib/python3.7/dist-packages (from matplotlib->geojsoncontour) (1.3.2)\n",
            "Requirement already satisfied: pyparsing!=2.0.4,!=2.1.2,!=2.1.6,>=2.0.1 in /usr/local/lib/python3.7/dist-packages (from matplotlib->geojsoncontour) (2.4.7)\n",
            "Requirement already satisfied: six in /usr/local/lib/python3.7/dist-packages (from cycler>=0.10->matplotlib->geojsoncontour) (1.15.0)\n",
            "Requirement already satisfied: pandas>=1.0 in /usr/local/lib/python3.7/dist-packages (from xarray->geojsoncontour) (1.1.5)\n",
            "Requirement already satisfied: setuptools>=40.4 in /usr/local/lib/python3.7/dist-packages (from xarray->geojsoncontour) (57.4.0)\n",
            "Requirement already satisfied: pytz>=2017.2 in /usr/local/lib/python3.7/dist-packages (from pandas>=1.0->xarray->geojsoncontour) (2018.9)\n",
            "Installing collected packages: geojson, geojsoncontour\n",
            "Successfully installed geojson-2.5.0 geojsoncontour-0.4.0\n"
          ]
        }
      ]
    },
    {
      "cell_type": "code",
      "metadata": {
        "colab": {
          "base_uri": "https://localhost:8080/"
        },
        "id": "O_Vd_gr8DMH4",
        "outputId": "2fcdb1c9-4d2a-4a4b-f30b-afa79ab791b8"
      },
      "source": [
        "!git clone https://github.com/diana-hep/carl.git"
      ],
      "execution_count": 2,
      "outputs": [
        {
          "output_type": "stream",
          "name": "stdout",
          "text": [
            "Cloning into 'carl'...\n",
            "remote: Enumerating objects: 1974, done.\u001b[K\n",
            "remote: Total 1974 (delta 0), reused 0 (delta 0), pack-reused 1974\u001b[K\n",
            "Receiving objects: 100% (1974/1974), 6.98 MiB | 7.90 MiB/s, done.\n",
            "Resolving deltas: 100% (1228/1228), done.\n"
          ]
        }
      ]
    },
    {
      "cell_type": "code",
      "metadata": {
        "colab": {
          "base_uri": "https://localhost:8080/"
        },
        "id": "tX70ol39DWnZ",
        "outputId": "711a5a67-07c2-4d92-e91e-f15f9982f0cb"
      },
      "source": [
        "%cd"
      ],
      "execution_count": 5,
      "outputs": [
        {
          "output_type": "stream",
          "name": "stdout",
          "text": [
            "/root\n"
          ]
        }
      ]
    },
    {
      "cell_type": "code",
      "metadata": {
        "colab": {
          "base_uri": "https://localhost:8080/"
        },
        "id": "69cMQ58YDbMP",
        "outputId": "fd17c8d5-ef3b-4033-88d5-f9dc68f54686"
      },
      "source": [
        "%cd carl\n",
        "!python3 setup.py install\n",
        "%cd"
      ],
      "execution_count": 7,
      "outputs": [
        {
          "output_type": "stream",
          "name": "stdout",
          "text": [
            "[Errno 2] No such file or directory: 'carl !python3 setup.py install %cd'\n",
            "/root\n"
          ]
        }
      ]
    },
    {
      "cell_type": "code",
      "metadata": {
        "id": "O-Pj6bQLFrMI",
        "outputId": "26882d9c-637b-403c-8915-b68045efd41a",
        "colab": {
          "base_uri": "https://localhost:8080/"
        }
      },
      "source": [
        "!pip3 install theano"
      ],
      "execution_count": 10,
      "outputs": [
        {
          "output_type": "stream",
          "name": "stdout",
          "text": [
            "Requirement already satisfied: theano in /usr/local/lib/python3.7/dist-packages/Theano-1.0.5-py3.7.egg (1.0.5)\n",
            "Requirement already satisfied: numpy>=1.9.1 in /usr/local/lib/python3.7/dist-packages (from theano) (1.19.5)\n",
            "Requirement already satisfied: scipy>=0.14 in /usr/local/lib/python3.7/dist-packages (from theano) (1.4.1)\n",
            "Requirement already satisfied: six>=1.9.0 in /usr/local/lib/python3.7/dist-packages (from theano) (1.15.0)\n"
          ]
        }
      ]
    },
    {
      "cell_type": "code",
      "metadata": {
        "colab": {
          "base_uri": "https://localhost:8080/",
          "height": 379
        },
        "id": "xyLIDn1swZSL",
        "outputId": "e73f0b3a-3cb6-47b8-db7f-5211e63feaef"
      },
      "source": [
        "import numpy as np\n",
        "import pandas as pd\n",
        "import folium\n",
        "import branca\n",
        "from folium import plugins\n",
        "import matplotlib.pyplot as plt\n",
        "from scipy.interpolate import griddata\n",
        "import geojsoncontour\n",
        "import scipy as sp\n",
        "import scipy.ndimage\n",
        "import sys\n",
        "import numpy.random as npr\n",
        "import tensorflow as tf\n",
        "import torch\n",
        "import torch.nn as nn\n",
        "import torch.nn.functional as F\n",
        "import matplotlib.pyplot as plt\n",
        "plt.rcParams[\"figure.figsize\"] = (6,6)\n",
        "plt.rcParams[\"font.size\"] = 16.0\n",
        "\n",
        "import numpy as np\n",
        "from numpy.testing import assert_array_equal\n",
        "\n",
        "#from carl.carl.distributions import Mixture, MultivariateNormal, Uniform, Normal\n",
        "import matplotlib as mpl\n",
        "import matplotlib.pyplot as plt\n",
        "#from matplotlib.mlab import griddata\n",
        "\n",
        "np.random.seed(1)\n",
        "\n",
        "\n",
        "# Setup\n",
        "temp_mean = 12\n",
        "temp_std  = 2\n",
        "debug     = False\n",
        "\n",
        "# Setup colormap\n",
        "colors = ['#d7191c',  '#fdae61',  '#ffffbf',  '#abdda4',  '#2b83ba']\n",
        "vmin   = temp_mean - 2 * temp_std\n",
        "vmax   = temp_mean + 2 * temp_std\n",
        "levels = len(colors)\n",
        "cm     = branca.colormap.LinearColormap(colors, vmin=vmin, vmax=vmax).to_step(levels)\n",
        "n_samples = 2000\n",
        "# Create a dataframe with fake data\n",
        "df = pd.DataFrame({\n",
        "    'longitude':   np.random.normal(2.75,     1.,     n_samples),\n",
        "    'latitude':    np.random.normal(46.8,     0.8,     n_samples),\n",
        "    })\n",
        "\n",
        "df['salaire'] = ((df['latitude']-46.8)**2 + (df['longitude']-2.75)**2)*1000+1000\n",
        "df['temperature']= (df['latitude']-46.8) *20+20\n",
        "\n",
        "import matplotlib.pyplot as plt\n",
        "from scipy.stats import multivariate_normal, norm\n",
        "p0 = multivariate_normal(np.array([0., 0.]),np.array([[1., -0.5], [-0.5, 1.]]))\n",
        "p1 = multivariate_normal(np.array([1., 1.]),np.eye(2))\n",
        "ps = norm(0.0, 1.0)\n",
        "\n",
        "X0 = p0.rvs(n_samples // 2, random_state = 1)\n",
        "X1 = p1.rvs(n_samples // 2, random_state = 1)\n",
        "s = ps.rvs(n_samples, random_state = 1).ravel()\n",
        "X1[:, 1] += 3*np.sin(s[n_samples // 2:])\n",
        "\n",
        "X = np.vstack([X0, X1])\n",
        "y = np.zeros(n_samples)\n",
        "y[n_samples // 2:] = 1\n",
        "\n",
        "\n",
        "# The original data\n",
        "x_orig = np.asarray(df.longitude.tolist())\n",
        "y_orig = np.asarray(df.latitude.tolist())\n",
        "z_orig = np.asarray(df.salaire.tolist())\n",
        "\n",
        "# Make a grid\n",
        "x_arr          = np.linspace(np.min(x_orig), np.max(x_orig), 500)\n",
        "y_arr          = np.linspace(np.min(y_orig), np.max(y_orig), 500)\n",
        "x_mesh, y_mesh = np.meshgrid(x_arr, y_arr)\n",
        "\n",
        "# Grid the values\n",
        "z_mesh = griddata((x_orig, y_orig), z_orig, (x_mesh, y_mesh), method='cubic')\n",
        "\n",
        "# Gaussian filter the grid to make it smoother\n",
        "sigma = [5, 5]\n",
        "z_mesh = sp.ndimage.filters.gaussian_filter(z_mesh, sigma, mode='constant')\n",
        "\n",
        "# Create the contour\n",
        "contourf = plt.contourf(x_mesh, y_mesh, z_mesh, levels, alpha=0.5, colors=colors, linestyles='None', vmin=vmin, vmax=vmax)\n",
        "\n",
        "# Convert matplotlib contourf to geojson\n",
        "geojson = geojsoncontour.contourf_to_geojson(\n",
        "    contourf=contourf,\n",
        "    min_angle_deg=3.0,\n",
        "    ndigits=5,\n",
        "    stroke_width=1,\n",
        "    fill_opacity=0.5)\n",
        "\n",
        "# Set up the folium plot\n",
        "geomap = folium.Map([df.latitude.mean(), df.longitude.mean()], zoom_start=10, tiles=\"cartodbpositron\")\n",
        "\n",
        "# Plot the contour plot on folium\n",
        "folium.GeoJson(\n",
        "    geojson,\n",
        "    style_function=lambda x: {\n",
        "        'color':     x['properties']['stroke'],\n",
        "        'weight':    x['properties']['stroke-width'],\n",
        "        'fillColor': x['properties']['fill'],\n",
        "        'opacity':   0.6,\n",
        "    }).add_to(geomap)\n",
        "\n",
        "# Add the colormap to the folium map\n",
        "cm.caption = 'Temperature'\n",
        "geomap.add_child(cm)\n",
        "\n",
        "# Fullscreen mode\n",
        "plugins.Fullscreen(position='topright', force_separate_button=True).add_to(geomap)\n",
        "\n",
        "# Plot the data\n",
        "geomap.save(f'folium_contour_temperature_map.html')"
      ],
      "execution_count": 23,
      "outputs": [
        {
          "output_type": "display_data",
          "data": {
            "image/png": "[encoded data removed]",
            "text/plain": [
              "<Figure size 432x432 with 1 Axes>"
            ]
          },
          "metadata": {
            "needs_background": "light"
          }
        }
      ]
    },
    {
      "cell_type": "code",
      "metadata": {
        "colab": {
          "base_uri": "https://localhost:8080/"
        },
        "id": "ZoeePTkk6aOo",
        "outputId": "85184cc8-257a-44f6-c286-e2bf3345e5b5"
      },
      "source": [
        "df['temperature']"
      ],
      "execution_count": 108,
      "outputs": [
        {
          "output_type": "execute_result",
          "data": {
            "text/plain": [
              "0        1768.427316\n",
              "1        1965.561979\n",
              "2        1043.088238\n",
              "3        1521.226565\n",
              "4        2911.898428\n",
              "            ...     \n",
              "1995     1684.453889\n",
              "1996     1511.289788\n",
              "1997     7280.875566\n",
              "1998    12980.835112\n",
              "1999     2552.727176\n",
              "Name: temperature, Length: 2000, dtype: float64"
            ]
          },
          "metadata": {},
          "execution_count": 108
        }
      ]
    },
    {
      "cell_type": "code",
      "metadata": {
        "colab": {
          "base_uri": "https://localhost:8080/"
        },
        "id": "vgHWNpBC6Faf",
        "outputId": "78d5c348-e8be-415b-b2ac-22f839da1c23"
      },
      "source": [
        ".mean()"
      ],
      "execution_count": 106,
      "outputs": [
        {
          "output_type": "execute_result",
          "data": {
            "text/plain": [
              "2543.9966258507584"
            ]
          },
          "metadata": {},
          "execution_count": 106
        }
      ]
    },
    {
      "cell_type": "code",
      "metadata": {
        "id": "6u3hVsVkwqMQ"
      },
      "source": [
        ""
      ],
      "execution_count": null,
      "outputs": []
    }
  ]
}